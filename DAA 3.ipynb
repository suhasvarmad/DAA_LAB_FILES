{
 "cells": [
  {
   "cell_type": "code",
   "execution_count": 2,
   "id": "a4fe3496",
   "metadata": {},
   "outputs": [
    {
     "name": "stdout",
     "output_type": "stream",
     "text": [
      "Inversion pairs:\n",
      "(5, 4)\n",
      "(5, 1)\n",
      "(4, 1)\n",
      "(16, 1)\n"
     ]
    }
   ],
   "source": [
    "# \n",
    "\n",
    "a = [5, 4,16, 1]\n",
    "\n",
    "def find_inversions(arr):\n",
    "    inversions = []\n",
    "    n = len(arr)\n",
    "    for i in range(n):\n",
    "        for j in range(i + 1, n):\n",
    "            if arr[i] > arr[j]:\n",
    "                inversions.append((arr[i], arr[j]))\n",
    "    return inversions\n",
    "\n",
    "inversion_pairs = find_inversions(a)\n",
    "\n",
    "if inversion_pairs:\n",
    "    print(\"Inversion pairs:\")\n",
    "    for pair in inversion_pairs:\n",
    "        print(pair)\n",
    "else:\n",
    "    print(\"No inversions found in the given array.\")\n"
   ]
  },
  {
   "cell_type": "code",
   "execution_count": 3,
   "id": "93868c48",
   "metadata": {},
   "outputs": [
    {
     "name": "stdout",
     "output_type": "stream",
     "text": [
      "Inversion pairs:\n",
      "(8, 4)\n",
      "(8, 2)\n",
      "(8, 1)\n",
      "(4, 2)\n",
      "(4, 1)\n",
      "(2, 1)\n"
     ]
    }
   ],
   "source": [
    "a = [8, 4,2, 1]\n",
    "\n",
    "def find_inversions(arr):\n",
    "    inversions = []\n",
    "    n = len(arr)\n",
    "    for i in range(n):\n",
    "        for j in range(i + 1, n):\n",
    "            if arr[i] > arr[j]:\n",
    "                inversions.append((arr[i], arr[j]))\n",
    "    return inversions\n",
    "\n",
    "inversion_pairs = find_inversions(a)\n",
    "\n",
    "if inversion_pairs:\n",
    "    print(\"Inversion pairs:\")\n",
    "    for pair in inversion_pairs:\n",
    "        print(pair)\n",
    "else:\n",
    "    print(\"No inversions found in the given array.\")\n"
   ]
  },
  {
   "cell_type": "code",
   "execution_count": 8,
   "id": "d3e133f9",
   "metadata": {},
   "outputs": [
    {
     "name": "stdout",
     "output_type": "stream",
     "text": [
      "The trees are not identical.\n"
     ]
    }
   ],
   "source": [
    "class TreeNode:\n",
    "    def __init__(self, value):\n",
    "        self.value = value\n",
    "        self.left = None\n",
    "        self.right = None\n",
    "\n",
    "def are_identical(root1, root2):\n",
    "    if root1 is None and root2 is None:\n",
    "        return True\n",
    "    if root1 is None or root2 is None:\n",
    "        return False\n",
    "    return (root1.value == root2.value) and \\\n",
    "           are_identical(root1.left, root2.left) and \\\n",
    "           are_identical(root1.right, root2.right)\n",
    "\n",
    "\n",
    "tree1 = TreeNode(1)\n",
    "tree1.left = TreeNode(7)\n",
    "tree1.right = TreeNode(3)\n",
    "tree1.left.left = TreeNode(4)\n",
    "tree1.left.right = TreeNode(5)\n",
    "\n",
    "tree2 = TreeNode(1)\n",
    "tree2.left = TreeNode(2)\n",
    "tree2.right = TreeNode(3)\n",
    "tree2.left.left = TreeNode(4)\n",
    "tree2.left.right = TreeNode(5)\n",
    "\n",
    "\n",
    "if are_identical(tree1, tree2):\n",
    "    print(\"The trees are identical.\")\n",
    "else:\n",
    "    print(\"The trees are not identical.\")\n"
   ]
  },
  {
   "cell_type": "code",
   "execution_count": 12,
   "id": "e34eab6e",
   "metadata": {},
   "outputs": [
    {
     "name": "stdout",
     "output_type": "stream",
     "text": [
      "The trees are not identical.\n"
     ]
    }
   ],
   "source": [
    "def are_identical(tree1, tree2):\n",
    "    if tree1 is None and tree2 is None:\n",
    "        return True\n",
    "    if tree1 is None or tree2 is None:\n",
    "        return False\n",
    "\n",
    "    return tree1['value'] == tree2['value'] and \\\n",
    "           are_identical(tree1['left'], tree2['left']) and \\\n",
    "           are_identical(tree1['right'], tree2['right'])\n",
    "\n",
    "\n",
    "tree1 = {'value': 1, 'left': {'value': 2, 'left': {'value': 4, 'left': None, 'right': None}, 'right': {'value': 5, 'left': None, 'right': None}}, 'right': {'value': 3, 'left': None, 'right': None}}\n",
    "tree2 = {'value': 1, 'left': {'value': 7, 'left': {'value': 4, 'left': None, 'right': None}, 'right': {'value': 5, 'left': None, 'right': None}}, 'right': {'value': 3, 'left': None, 'right': None}}\n",
    "\n",
    "if are_identical(tree1, tree2):\n",
    "    print(\"The trees are identical.\")\n",
    "else:\n",
    "    print(\"The trees are not identical.\")\n"
   ]
  },
  {
   "cell_type": "code",
   "execution_count": 22,
   "id": "b50e436c",
   "metadata": {},
   "outputs": [
    {
     "name": "stdout",
     "output_type": "stream",
     "text": [
      "you? are how Hello,\n"
     ]
    }
   ],
   "source": [
    "sentence = \"Hello, how are you?\"\n",
    "words = sentence.split()\n",
    "reversed_words = words[::-1]\n",
    "reversed_sentence = ' '.join(reversed_words)\n",
    "print(reversed_sentence)\n"
   ]
  },
  {
   "cell_type": "code",
   "execution_count": 23,
   "id": "95192523",
   "metadata": {},
   "outputs": [
    {
     "name": "stdout",
     "output_type": "stream",
     "text": [
      "eHll,oh woa ery uod iognt doya?\n"
     ]
    }
   ],
   "source": [
    "sentence = \"Hello, how are you doing today?\"\n",
    "\n",
    "characters = list(sentence)\n",
    "\n",
    "for i in range(0, len(characters), 2):\n",
    "    start = i\n",
    "    end = i + 1\n",
    "    characters[start:end+1] = characters[start:end+1][::-1]\n",
    "\n",
    "reversed_sentence = ''.join(characters)\n",
    "\n",
    "print(reversed_sentence)"
   ]
  },
  {
   "cell_type": "code",
   "execution_count": 21,
   "id": "4ea9a776",
   "metadata": {},
   "outputs": [
    {
     "name": "stdout",
     "output_type": "stream",
     "text": [
      "The yks is eulb\n"
     ]
    }
   ],
   "source": [
    "def reverse_even_words(sentence):\n",
    "    words = sentence.split()\n",
    "    reversed_sentence = []\n",
    "\n",
    "    for i in range(len(words)):\n",
    "        if i % 2 == 0:\n",
    "            reversed_sentence.append(words[i])\n",
    "        else:\n",
    "            reversed_sentence.append(words[i][::-1]) \n",
    "    return ' '.join(reversed_sentence)\n",
    "\n",
    "sentence = \"The sky is blue\"\n",
    "\n",
    "result = reverse_even_words(sentence)\n",
    "\n",
    "print(result)"
   ]
  }
 ],
 "metadata": {
  "kernelspec": {
   "display_name": "Python 3 (ipykernel)",
   "language": "python",
   "name": "python3"
  },
  "language_info": {
   "codemirror_mode": {
    "name": "ipython",
    "version": 3
   },
   "file_extension": ".py",
   "mimetype": "text/x-python",
   "name": "python",
   "nbconvert_exporter": "python",
   "pygments_lexer": "ipython3",
   "version": "3.11.5"
  }
 },
 "nbformat": 4,
 "nbformat_minor": 5
}
